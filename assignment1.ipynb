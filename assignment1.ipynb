{
 "cells": [
  {
   "cell_type": "markdown",
   "id": "a6c8f587-d451-46e7-ab68-ba4dbb1043db",
   "metadata": {},
   "source": [
    "# Assignment 1\n",
    "## Preprocessing and Supervised Data Classification\n",
    "\n",
    "Student: Vladyslav Lysenko\n",
    "\n",
    "---"
   ]
  },
  {
   "cell_type": "markdown",
   "id": "22557d84-e313-46c6-b573-078227a809de",
   "metadata": {},
   "source": [
    "### Importing required dependencies"
   ]
  },
  {
   "cell_type": "code",
   "execution_count": 14,
   "id": "9b90bf98-3b33-4627-963a-55060666122d",
   "metadata": {},
   "outputs": [],
   "source": [
    "import numpy as np\n",
    "import pandas as pd\n",
    "import matplotlib.pyplot as plt\n",
    "from sklearn import preprocessing, linear_model\n",
    "from sklearn.naive_bayes import GaussianNB\n",
    "from sklearn.model_selection import train_test_split\n",
    "from sklearn.metrics import confusion_matrix, accuracy_score, recall_score, precision_score, f1_score,\\\n",
    "roc_curve, roc_auc_score"
   ]
  },
  {
   "cell_type": "code",
   "execution_count": null,
   "id": "ae49286d-4182-4733-b7da-74cde8f8a642",
   "metadata": {},
   "outputs": [],
   "source": []
  }
 ],
 "metadata": {
  "kernelspec": {
   "display_name": "Python 3 (ipykernel)",
   "language": "python",
   "name": "python3"
  },
  "language_info": {
   "codemirror_mode": {
    "name": "ipython",
    "version": 3
   },
   "file_extension": ".py",
   "mimetype": "text/x-python",
   "name": "python",
   "nbconvert_exporter": "python",
   "pygments_lexer": "ipython3",
   "version": "3.12.7"
  }
 },
 "nbformat": 4,
 "nbformat_minor": 5
}
