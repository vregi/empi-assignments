{
 "cells": [
  {
   "cell_type": "markdown",
   "id": "a6c8f587-d451-46e7-ab68-ba4dbb1043db",
   "metadata": {},
   "source": [
    "# Assignment 1\n",
    "## Preprocessing and Supervised Data Classification\n",
    "\n",
    "Student: Vladyslav Lysenko\n",
    "\n",
    "---"
   ]
  },
  {
   "cell_type": "markdown",
   "id": "22557d84-e313-46c6-b573-078227a809de",
   "metadata": {},
   "source": [
    "### Importing required dependencies"
   ]
  },
  {
   "cell_type": "code",
   "execution_count": 1,
   "id": "9b90bf98-3b33-4627-963a-55060666122d",
   "metadata": {},
   "outputs": [],
   "source": [
    "import numpy as np\n",
    "import pandas as pd\n",
    "import matplotlib.pyplot as plt\n",
    "from sklearn import preprocessing, linear_model\n",
    "from sklearn.naive_bayes import GaussianNB\n",
    "from sklearn.model_selection import train_test_split, cross_val_score\n",
    "from sklearn.metrics import confusion_matrix, accuracy_score, recall_score, precision_score, f1_score,\\\n",
    "roc_curve, roc_auc_score\n",
    "from utilities import visualize_classifier"
   ]
  },
  {
   "cell_type": "markdown",
   "id": "c6b7be22-775a-4dbc-bc01-48cb694e93aa",
   "metadata": {},
   "source": [
    "### Part 1: Preprocessing"
   ]
  },
  {
   "cell_type": "code",
   "execution_count": 2,
   "id": "95b1cf18-eb59-4467-a725-68742fc004f7",
   "metadata": {},
   "outputs": [],
   "source": [
    "data = np.array([[5.1, -2.9, 3.3],\n",
    "                 [-1.2, 7.8, -6.1],\n",
    "                 [3.9, 0.4, 2.1],\n",
    "                 [7.3, -9.9, -4.5]])"
   ]
  },
  {
   "cell_type": "code",
   "execution_count": 3,
   "id": "f9f733ab-91e6-479b-a1a5-6896c2ef9eb2",
   "metadata": {},
   "outputs": [
    {
     "data": {
      "text/plain": [
       "array([[1., 0., 1.],\n",
       "       [0., 1., 0.],\n",
       "       [1., 0., 0.],\n",
       "       [1., 0., 0.]])"
      ]
     },
     "execution_count": 3,
     "metadata": {},
     "output_type": "execute_result"
    }
   ],
   "source": [
    "data_binarized = preprocessing.Binarizer(threshold=2.1).transform(data)\n",
    "data_binarized"
   ]
  },
  {
   "cell_type": "code",
   "execution_count": 4,
   "id": "ef7ee856-fff5-49d1-8c75-3a6673ae763f",
   "metadata": {},
   "outputs": [
    {
     "name": "stdout",
     "output_type": "stream",
     "text": [
      "mean=[ 3.775 -1.15  -1.3  ]\n",
      "std=[3.12039661 6.36651396 4.0620192 ]\n"
     ]
    }
   ],
   "source": [
    "mean, std = data.mean(axis=0), data.std(axis=0)\n",
    "print(f\"mean={mean}\\nstd={std}\")"
   ]
  },
  {
   "cell_type": "markdown",
   "id": "20511cf2-c3b4-4152-be1e-178ea808d925",
   "metadata": {},
   "source": [
    "### Standartization (z-score normalization)"
   ]
  },
  {
   "cell_type": "code",
   "execution_count": 5,
   "id": "b8ebe169-2698-439f-9552-5bd4727926d6",
   "metadata": {},
   "outputs": [
    {
     "data": {
      "text/plain": [
       "array([[ 0.42462551, -0.2748757 ,  1.13244172],\n",
       "       [-1.59434861,  1.40579288, -1.18167831],\n",
       "       [ 0.04005901,  0.24346134,  0.83702214],\n",
       "       [ 1.12966409, -1.37437851, -0.78778554]])"
      ]
     },
     "execution_count": 5,
     "metadata": {},
     "output_type": "execute_result"
    }
   ],
   "source": [
    "data_scaled = preprocessing.scale(data)\n",
    "data_scaled"
   ]
  },
  {
   "cell_type": "code",
   "execution_count": 6,
   "id": "01074798-9c14-44c8-baba-3b973adc5ca0",
   "metadata": {},
   "outputs": [
    {
     "name": "stdout",
     "output_type": "stream",
     "text": [
      "mean=[1.11022302e-16 0.00000000e+00 2.77555756e-17]\n",
      "std=[1. 1. 1.]\n"
     ]
    }
   ],
   "source": [
    "mean, std = data_scaled.mean(axis=0), data_scaled.std(axis=0)\n",
    "print(f\"mean={mean}\\nstd={std}\")"
   ]
  },
  {
   "cell_type": "markdown",
   "id": "8bbe054a-d445-4a45-bff5-d4b1eaa89eb7",
   "metadata": {},
   "source": [
    "### Min-Max Scaling"
   ]
  },
  {
   "cell_type": "code",
   "execution_count": 7,
   "id": "18740d73-2ab4-4a0d-a6fe-cd1e7928563b",
   "metadata": {},
   "outputs": [
    {
     "data": {
      "text/plain": [
       "array([[0.74117647, 0.39548023, 1.        ],\n",
       "       [0.        , 1.        , 0.        ],\n",
       "       [0.6       , 0.5819209 , 0.87234043],\n",
       "       [1.        , 0.        , 0.17021277]])"
      ]
     },
     "execution_count": 7,
     "metadata": {},
     "output_type": "execute_result"
    }
   ],
   "source": [
    "data_scaler_minmax = preprocessing.MinMaxScaler(feature_range=(0,1))\n",
    "data_scaled_minmax = data_scaler_minmax.fit_transform(data)\n",
    "data_scaled_minmax"
   ]
  },
  {
   "cell_type": "code",
   "execution_count": 8,
   "id": "3b1bf5ec-0933-4afc-a8ab-89da9ba889ef",
   "metadata": {},
   "outputs": [
    {
     "name": "stdout",
     "output_type": "stream",
     "text": [
      "mean=[0.58529412 0.49435028 0.5106383 ]\n",
      "std=[0.36710548 0.35969005 0.4321297 ]\n"
     ]
    }
   ],
   "source": [
    "mean, std = data_scaled_minmax.mean(axis=0), data_scaled_minmax.std(axis=0)\n",
    "print(f\"mean={mean}\\nstd={std}\")"
   ]
  },
  {
   "cell_type": "markdown",
   "id": "83a9558d-1ac4-4cb5-b93e-1e4da56906e2",
   "metadata": {},
   "source": [
    "### L1-L2 Normalization"
   ]
  },
  {
   "cell_type": "code",
   "execution_count": 9,
   "id": "fb1ac8f2-fe84-40fd-b756-2c2b890ef113",
   "metadata": {},
   "outputs": [
    {
     "name": "stdout",
     "output_type": "stream",
     "text": [
      "[[ 0.45132743 -0.25663717  0.2920354 ]\n",
      " [-0.0794702   0.51655629 -0.40397351]\n",
      " [ 0.609375    0.0625      0.328125  ]\n",
      " [ 0.33640553 -0.4562212  -0.20737327]] \n",
      "\n",
      " [[ 0.75765788 -0.43082507  0.49024922]\n",
      " [-0.12030718  0.78199664 -0.61156148]\n",
      " [ 0.87690281  0.08993875  0.47217844]\n",
      " [ 0.55734935 -0.75585734 -0.34357152]]\n"
     ]
    }
   ],
   "source": [
    "data_normalized_l1 = preprocessing.normalize(data, norm=\"l1\")\n",
    "data_normalized_l2 = preprocessing.normalize(data, norm=\"l2\")\n",
    "print(data_normalized_l1,'\\n\\n',data_normalized_l2)"
   ]
  },
  {
   "cell_type": "markdown",
   "id": "37c63ac7-c509-4b95-9d2a-8df65eeb547f",
   "metadata": {},
   "source": [
    "### Label Encoding"
   ]
  },
  {
   "cell_type": "code",
   "execution_count": 10,
   "id": "a6f37561-67e5-44fc-8db0-37d45a3b4d75",
   "metadata": {},
   "outputs": [],
   "source": [
    "input_labels = ['red', 'black', 'red', 'green', 'black', 'yellow', 'white']"
   ]
  },
  {
   "cell_type": "code",
   "execution_count": 11,
   "id": "1beda050-23e8-45b7-adec-5da6debe6ba9",
   "metadata": {},
   "outputs": [],
   "source": [
    "encoder = preprocessing.LabelEncoder()\n",
    "encoder.fit(input_labels);"
   ]
  },
  {
   "cell_type": "code",
   "execution_count": 12,
   "id": "d6fe7713-4780-4bca-ad37-e92d9efd4719",
   "metadata": {},
   "outputs": [
    {
     "name": "stdout",
     "output_type": "stream",
     "text": [
      "black --> 0\n",
      "green --> 1\n",
      "red --> 2\n",
      "white --> 3\n",
      "yellow --> 4\n"
     ]
    }
   ],
   "source": [
    "for i, item in enumerate(encoder.classes_):\n",
    "    print(item, '-->', i)"
   ]
  },
  {
   "cell_type": "code",
   "execution_count": 13,
   "id": "c825b859-2371-4ca9-bac8-df14bbbb6ed3",
   "metadata": {},
   "outputs": [
    {
     "name": "stdout",
     "output_type": "stream",
     "text": [
      "['green', 'red', 'black']\n",
      "[1, 2, 0]\n"
     ]
    }
   ],
   "source": [
    "test_labels = ['green', 'red', 'black']\n",
    "encoded_values = encoder.transform(test_labels)\n",
    "print(test_labels)\n",
    "print(list(encoded_values))"
   ]
  },
  {
   "cell_type": "code",
   "execution_count": 14,
   "id": "36be0f8d-18ab-421f-a1a7-906558dbb577",
   "metadata": {},
   "outputs": [
    {
     "name": "stdout",
     "output_type": "stream",
     "text": [
      "[3, 0, 4, 1]\n",
      "['white', 'black', 'yellow', 'green']\n"
     ]
    }
   ],
   "source": [
    "encoded_values = [3,0,4,1]\n",
    "decoded_values = encoder.inverse_transform(encoded_values)\n",
    "print(encoded_values)\n",
    "print(list(decoded_values))"
   ]
  },
  {
   "cell_type": "markdown",
   "id": "5f9e9863-191e-4a62-9cd8-6a4a3726e710",
   "metadata": {},
   "source": [
    "### Part 2: New data preprocessing\n",
    "Option 18"
   ]
  },
  {
   "cell_type": "code",
   "execution_count": 15,
   "id": "e3284737-3fe5-4824-a9ad-0c7daf338713",
   "metadata": {},
   "outputs": [],
   "source": [
    "input_data = np.array([[4.6, 3.9, -3.5],\n",
    "              [-2.9, 4.1, 3.3],\n",
    "              [2.2, 8.8, -6.1],\n",
    "              [3.9, 1.4, 2.2]])"
   ]
  },
  {
   "cell_type": "markdown",
   "id": "2dc7929a-a54b-4c53-a3d9-55db7e6da817",
   "metadata": {},
   "source": [
    "### Binarization"
   ]
  },
  {
   "cell_type": "code",
   "execution_count": 16,
   "id": "a684ad3b-ca85-46a8-99e9-d3b29cbc2799",
   "metadata": {},
   "outputs": [
    {
     "data": {
      "text/plain": [
       "array([[1., 1., 0.],\n",
       "       [0., 1., 1.],\n",
       "       [1., 1., 0.],\n",
       "       [1., 0., 1.]])"
      ]
     },
     "execution_count": 16,
     "metadata": {},
     "output_type": "execute_result"
    }
   ],
   "source": [
    "data_binarized = preprocessing.Binarizer(threshold=2.1).transform(input_data)\n",
    "data_binarized"
   ]
  },
  {
   "cell_type": "code",
   "execution_count": 17,
   "id": "e9706cf8-02db-408c-83f9-4a1356e34c63",
   "metadata": {},
   "outputs": [
    {
     "name": "stdout",
     "output_type": "stream",
     "text": [
      "mean=[ 1.95   4.55  -1.025]\n",
      "std=[2.93300188 2.67441582 3.9047247 ]\n"
     ]
    }
   ],
   "source": [
    "mean, std = input_data.mean(axis=0), input_data.std(axis=0)\n",
    "print(f\"mean={mean}\\nstd={std}\")"
   ]
  },
  {
   "cell_type": "markdown",
   "id": "3a848907-7ce9-492b-9653-e945de2eba7b",
   "metadata": {},
   "source": [
    "### Standartization"
   ]
  },
  {
   "cell_type": "code",
   "execution_count": 18,
   "id": "e5c293e3-a19a-4f4d-abc4-ac843382a95f",
   "metadata": {},
   "outputs": [
    {
     "data": {
      "text/plain": [
       "array([[ 0.90351119, -0.24304373, -0.6338475 ],\n",
       "       [-1.65359594, -0.16826104,  1.1076325 ],\n",
       "       [ 0.0852369 ,  1.58913209, -1.2997075 ],\n",
       "       [ 0.66484785, -1.17782731,  0.8259225 ]])"
      ]
     },
     "execution_count": 18,
     "metadata": {},
     "output_type": "execute_result"
    }
   ],
   "source": [
    "data_scaled = preprocessing.scale(input_data)\n",
    "data_scaled"
   ]
  },
  {
   "cell_type": "code",
   "execution_count": 19,
   "id": "9935533b-8480-4683-9b10-97d09fd3c4d3",
   "metadata": {},
   "outputs": [
    {
     "name": "stdout",
     "output_type": "stream",
     "text": [
      "mean=[-2.77555756e-17  1.11022302e-16  2.77555756e-17]\n",
      "std=[1. 1. 1.]\n"
     ]
    }
   ],
   "source": [
    "mean, std = data_scaled.mean(axis=0), data_scaled.std(axis=0)\n",
    "print(f\"mean={mean}\\nstd={std}\")"
   ]
  },
  {
   "cell_type": "markdown",
   "id": "48a98b74-fe9c-4915-820c-04423a0bbe0c",
   "metadata": {},
   "source": [
    "### Min-Max Scaling"
   ]
  },
  {
   "cell_type": "code",
   "execution_count": 20,
   "id": "01106dc7-db08-49a0-a314-5e05bbcd648a",
   "metadata": {},
   "outputs": [
    {
     "data": {
      "text/plain": [
       "array([[1.        , 0.33783784, 0.27659574],\n",
       "       [0.        , 0.36486486, 1.        ],\n",
       "       [0.68      , 1.        , 0.        ],\n",
       "       [0.90666667, 0.        , 0.88297872]])"
      ]
     },
     "execution_count": 20,
     "metadata": {},
     "output_type": "execute_result"
    }
   ],
   "source": [
    "data_scaler_minmax = preprocessing.MinMaxScaler(feature_range=(0,1))\n",
    "data_scaled_minmax = data_scaler_minmax.fit_transform(input_data)\n",
    "data_scaled_minmax"
   ]
  },
  {
   "cell_type": "code",
   "execution_count": 21,
   "id": "b48cb7c4-5f97-4067-8f6f-b10a3e09927b",
   "metadata": {},
   "outputs": [
    {
     "name": "stdout",
     "output_type": "stream",
     "text": [
      "mean=[0.64666667 0.42567568 0.53989362]\n",
      "std=[0.39106692 0.36140754 0.41539624]\n"
     ]
    }
   ],
   "source": [
    "mean, std = data_scaled_minmax.mean(axis=0), data_scaled_minmax.std(axis=0)\n",
    "print(f\"mean={mean}\\nstd={std}\")"
   ]
  },
  {
   "cell_type": "markdown",
   "id": "368978ed-6818-4d57-b249-b67932821fc0",
   "metadata": {},
   "source": [
    "### L1-L2 Normalization"
   ]
  },
  {
   "cell_type": "code",
   "execution_count": 22,
   "id": "4c0d069b-4e06-4556-b83c-366d23dfa326",
   "metadata": {},
   "outputs": [
    {
     "name": "stdout",
     "output_type": "stream",
     "text": [
      "[[ 0.38333333  0.325      -0.29166667]\n",
      " [-0.2815534   0.39805825  0.32038835]\n",
      " [ 0.12865497  0.51461988 -0.35672515]\n",
      " [ 0.52        0.18666667  0.29333333]] \n",
      "\n",
      " [[ 0.65970588  0.55931585 -0.50195013]\n",
      " [-0.4825966   0.68229174  0.54916164]\n",
      " [ 0.20125974  0.80503895 -0.55803836]\n",
      " [ 0.83129388  0.29841319  0.46893501]]\n"
     ]
    }
   ],
   "source": [
    "data_normalized_l1 = preprocessing.normalize(input_data, norm=\"l1\")\n",
    "data_normalized_l2 = preprocessing.normalize(input_data, norm=\"l2\")\n",
    "print(data_normalized_l1,'\\n\\n',data_normalized_l2)"
   ]
  },
  {
   "cell_type": "markdown",
   "id": "ae28a858-ec26-459e-99d2-cf01ea13cd5a",
   "metadata": {},
   "source": [
    "### Part 3: Logistic Regression Classification"
   ]
  },
  {
   "cell_type": "code",
   "execution_count": 23,
   "id": "45ee5e34-1e11-4751-9692-03460f3d7ee2",
   "metadata": {},
   "outputs": [],
   "source": [
    "X = np.array([[3.1, 7.2], [4, 6.7], [2.9, 8], [5.1, 4.5],\n",
    "             [6, 5], [5.6, 5], [3.3, 0.4],\n",
    "             [3.9, 0.9], [2.8, 1],\n",
    "             [0.5, 3.4], [1, 4], [0.6, 4.9]])\n",
    "y = np.array([0,0,0,1,1,1,2,2,2,3,3,3])"
   ]
  },
  {
   "cell_type": "code",
   "execution_count": 24,
   "id": "9bbfa887-52ad-441c-8a74-8914448e2441",
   "metadata": {},
   "outputs": [],
   "source": [
    "classifier = linear_model.LogisticRegression(solver='liblinear', C=1)\n",
    "classifier.fit(X,y);"
   ]
  },
  {
   "cell_type": "code",
   "execution_count": 25,
   "id": "327c6d75-01cc-464e-b9ad-0698c574a8a0",
   "metadata": {},
   "outputs": [
    {
     "data": {
      "image/png": "[encoded data removed]",
      "text/plain": [
       "<Figure size 640x480 with 1 Axes>"
      ]
     },
     "metadata": {},
     "output_type": "display_data"
    }
   ],
   "source": [
    "visualize_classifier(classifier, X, y)"
   ]
  },
  {
   "cell_type": "markdown",
   "id": "fdaa523d-20e0-4ed5-9be9-f43d5ea20531",
   "metadata": {},
   "source": [
    "### Part 4: Naive Bayes Classifier"
   ]
  },
  {
   "cell_type": "code",
   "execution_count": 26,
   "id": "2147c562-7213-432e-bbaf-6b563248cbfb",
   "metadata": {},
   "outputs": [],
   "source": [
    "data = np.loadtxt('data_multivar_nb.txt', delimiter=',')\n",
    "X,y = data[:, :-1], data[:, -1]"
   ]
  },
  {
   "cell_type": "code",
   "execution_count": 27,
   "id": "43e9b18c-9b8c-4d40-add7-80296fa6ce09",
   "metadata": {},
   "outputs": [],
   "source": [
    "classifier = GaussianNB()\n",
    "classifier.fit(X, y);"
   ]
  },
  {
   "cell_type": "code",
   "execution_count": 28,
   "id": "7a0f2bf6-913e-48e0-9642-3ef0c78d7d14",
   "metadata": {},
   "outputs": [
    {
     "data": {
      "text/plain": [
       "array([0., 1., 2., 3., 0., 1., 2., 3., 0., 1., 2., 3., 0., 1., 2., 3., 0.,\n",
       "       1., 2., 3., 0., 1., 2., 3., 0., 1., 2., 3., 0., 1., 2., 3., 0., 1.,\n",
       "       2., 3., 0., 1., 2., 3., 0., 1., 2., 3., 0., 1., 2., 3., 0., 1., 2.,\n",
       "       3., 0., 1., 2., 3., 0., 1., 2., 3., 0., 1., 2., 3., 0., 1., 2., 3.,\n",
       "       0., 1., 2., 3., 0., 1., 2., 3., 0., 1., 3., 3., 0., 1., 2., 3., 0.,\n",
       "       1., 2., 3., 0., 1., 2., 3., 0., 1., 2., 3., 0., 1., 2., 3., 0., 1.,\n",
       "       2., 3., 0., 1., 2., 3., 0., 1., 2., 3., 0., 1., 2., 3., 0., 1., 2.,\n",
       "       3., 0., 1., 2., 3., 0., 1., 2., 3., 0., 1., 2., 3., 0., 1., 2., 3.,\n",
       "       0., 1., 2., 3., 0., 1., 2., 3., 0., 1., 2., 3., 0., 1., 2., 3., 0.,\n",
       "       1., 2., 3., 0., 1., 2., 3., 0., 1., 2., 3., 0., 1., 2., 3., 0., 1.,\n",
       "       2., 3., 0., 1., 2., 3., 0., 1., 2., 3., 0., 1., 2., 3., 0., 1., 2.,\n",
       "       3., 0., 1., 2., 3., 0., 1., 2., 3., 0., 1., 2., 3., 0., 1., 2., 3.,\n",
       "       0., 1., 2., 3., 0., 1., 2., 3., 0., 1., 2., 3., 0., 1., 2., 3., 0.,\n",
       "       1., 2., 3., 0., 1., 2., 3., 0., 1., 2., 3., 0., 1., 2., 3., 0., 1.,\n",
       "       2., 3., 0., 1., 2., 3., 0., 1., 2., 3., 0., 1., 2., 3., 0., 1., 2.,\n",
       "       3., 0., 1., 2., 3., 0., 1., 2., 3., 0., 1., 2., 3., 0., 1., 2., 3.,\n",
       "       0., 1., 2., 3., 0., 1., 2., 3., 0., 1., 2., 3., 0., 1., 2., 3., 0.,\n",
       "       1., 2., 3., 0., 1., 2., 3., 0., 1., 2., 3., 0., 1., 2., 3., 0., 1.,\n",
       "       2., 3., 0., 1., 2., 3., 0., 1., 2., 3., 0., 1., 2., 3., 0., 1., 2.,\n",
       "       3., 0., 1., 2., 3., 0., 1., 2., 3., 0., 1., 2., 3., 0., 1., 2., 3.,\n",
       "       0., 1., 2., 3., 0., 1., 2., 3., 0., 1., 2., 3., 0., 1., 2., 3., 0.,\n",
       "       1., 2., 3., 0., 1., 2., 3., 0., 1., 2., 3., 0., 1., 2., 3., 0., 1.,\n",
       "       2., 3., 0., 1., 2., 3., 0., 1., 2., 3., 0., 1., 2., 3., 0., 1., 2.,\n",
       "       3., 0., 1., 2., 3., 0., 1., 2., 3.])"
      ]
     },
     "execution_count": 28,
     "metadata": {},
     "output_type": "execute_result"
    }
   ],
   "source": [
    "y_pred = classifier.predict(X)\n",
    "y_pred"
   ]
  },
  {
   "cell_type": "code",
   "execution_count": 29,
   "id": "289a648b-6423-4ff6-bd78-fdf7fbe95321",
   "metadata": {},
   "outputs": [
    {
     "data": {
      "text/plain": [
       "99.75"
      ]
     },
     "execution_count": 29,
     "metadata": {},
     "output_type": "execute_result"
    }
   ],
   "source": [
    "accuracy = 100.0 * (y == y_pred).sum() / X.shape[0]\n",
    "accuracy"
   ]
  },
  {
   "cell_type": "code",
   "execution_count": 30,
   "id": "dfa7ffaf-b465-41b1-bd5c-22c36308d91b",
   "metadata": {},
   "outputs": [
    {
     "data": {
      "image/png": "[encoded data removed]",
      "text/plain": [
       "<Figure size 640x480 with 1 Axes>"
      ]
     },
     "metadata": {},
     "output_type": "display_data"
    }
   ],
   "source": [
    "visualize_classifier(classifier, X,y)"
   ]
  },
  {
   "cell_type": "markdown",
   "id": "2a09ad53-44e7-426c-8843-fdc0bf99d3cd",
   "metadata": {},
   "source": [
    "### Train-Test Split"
   ]
  },
  {
   "cell_type": "code",
   "execution_count": 31,
   "id": "0a257864-b159-4821-a2dd-fc1597522896",
   "metadata": {},
   "outputs": [],
   "source": [
    "X_train, X_test, y_train, y_test = train_test_split(X,y, test_size=0.33, random_state=42)"
   ]
  },
  {
   "cell_type": "code",
   "execution_count": 32,
   "id": "202579e3-e97c-45b9-8781-d238698c5138",
   "metadata": {},
   "outputs": [],
   "source": [
    "classifier_new = GaussianNB()\n",
    "classifier_new.fit(X_train, y_train);"
   ]
  },
  {
   "cell_type": "code",
   "execution_count": 33,
   "id": "0ccde042-26b4-44c7-9bfb-1354209a5655",
   "metadata": {},
   "outputs": [],
   "source": [
    "y_test_pred = classifier_new.predict(X_test)"
   ]
  },
  {
   "cell_type": "code",
   "execution_count": 34,
   "id": "7b8a3fdc-4c24-4626-8ae8-4c33c6d0e83a",
   "metadata": {},
   "outputs": [
    {
     "data": {
      "text/plain": [
       "99.24242424242425"
      ]
     },
     "execution_count": 34,
     "metadata": {},
     "output_type": "execute_result"
    }
   ],
   "source": [
    "accuracy = 100.0 * (y_test == y_test_pred).sum() / X_test.shape[0]\n",
    "accuracy"
   ]
  },
  {
   "cell_type": "code",
   "execution_count": 35,
   "id": "620e4b89-bc8c-4adc-8593-e7a785231319",
   "metadata": {},
   "outputs": [
    {
     "data": {
      "image/png": "[encoded data removed]",
      "text/plain": [
       "<Figure size 640x480 with 1 Axes>"
      ]
     },
     "metadata": {},
     "output_type": "display_data"
    }
   ],
   "source": [
    "visualize_classifier(classifier_new, X_test, y_test)"
   ]
  },
  {
   "cell_type": "markdown",
   "id": "1a9740e9-f4dc-446a-a56b-25bca96379f2",
   "metadata": {},
   "source": [
    "### Model Evaluation"
   ]
  },
  {
   "cell_type": "code",
   "execution_count": 36,
   "id": "6dc2bb27-f0e6-4a00-8ac9-ebb13f7e62b4",
   "metadata": {},
   "outputs": [],
   "source": [
    "num_folds = 3"
   ]
  },
  {
   "cell_type": "code",
   "execution_count": 37,
   "id": "1c1d8764-ddb5-41e1-b79d-a236e79271ec",
   "metadata": {},
   "outputs": [
    {
     "name": "stdout",
     "output_type": "stream",
     "text": [
      "Cross Validation Accuracy 99.75%\n"
     ]
    }
   ],
   "source": [
    "accuracy_values = cross_val_score(classifier, X,y, scoring='accuracy', cv=num_folds)\n",
    "print('Cross Validation Accuracy ' + str(round(100 * accuracy_values.mean(), 2)) + '%')"
   ]
  },
  {
   "cell_type": "code",
   "execution_count": 38,
   "id": "a12313b3-fe7e-4165-8142-ae16523c0116",
   "metadata": {},
   "outputs": [
    {
     "name": "stdout",
     "output_type": "stream",
     "text": [
      "Cross Validation Precision 99.76%\n"
     ]
    }
   ],
   "source": [
    "precision_values = cross_val_score(classifier, X,y, scoring='precision_weighted', cv=num_folds)\n",
    "print('Cross Validation Precision ' + str(round(100 * precision_values.mean(), 2)) + '%')"
   ]
  },
  {
   "cell_type": "code",
   "execution_count": 39,
   "id": "30ba9064-c9a9-4494-b430-02225308e45e",
   "metadata": {},
   "outputs": [
    {
     "name": "stdout",
     "output_type": "stream",
     "text": [
      "Cross Validation Recall 99.75%\n"
     ]
    }
   ],
   "source": [
    "recall_values = cross_val_score(classifier, X,y, scoring='recall_weighted', cv=num_folds)\n",
    "print('Cross Validation Recall ' + str(round(100 * recall_values.mean(), 2)) + '%')"
   ]
  },
  {
   "cell_type": "code",
   "execution_count": 40,
   "id": "2e94c6fb-158f-4aed-b552-f40f4002fa59",
   "metadata": {},
   "outputs": [
    {
     "name": "stdout",
     "output_type": "stream",
     "text": [
      "Cross Validation F1 99.75%\n"
     ]
    }
   ],
   "source": [
    "f1_values = cross_val_score(classifier, X,y, scoring='f1_weighted', cv=num_folds)\n",
    "print('Cross Validation F1 ' + str(round(100 * f1_values.mean(), 2)) + '%')"
   ]
  },
  {
   "cell_type": "markdown",
   "id": "2aa9c5d7-4795-4017-9ae2-67685695dfeb",
   "metadata": {},
   "source": [
    "### Part 5: Classification Quality Metrics"
   ]
  },
  {
   "cell_type": "code",
   "execution_count": 41,
   "id": "553829cf-e289-4f0e-910c-3146b4e675d6",
   "metadata": {},
   "outputs": [
    {
     "data": {
      "text/html": [
       "<div>\n",
       "<style scoped>\n",
       "    .dataframe tbody tr th:only-of-type {\n",
       "        vertical-align: middle;\n",
       "    }\n",
       "\n",
       "    .dataframe tbody tr th {\n",
       "        vertical-align: top;\n",
       "    }\n",
       "\n",
       "    .dataframe thead th {\n",
       "        text-align: right;\n",
       "    }\n",
       "</style>\n",
       "<table border=\"1\" class=\"dataframe\">\n",
       "  <thead>\n",
       "    <tr style=\"text-align: right;\">\n",
       "      <th></th>\n",
       "      <th>actual_label</th>\n",
       "      <th>model_RF</th>\n",
       "      <th>model_LR</th>\n",
       "    </tr>\n",
       "  </thead>\n",
       "  <tbody>\n",
       "    <tr>\n",
       "      <th>0</th>\n",
       "      <td>1</td>\n",
       "      <td>0.639816</td>\n",
       "      <td>0.531904</td>\n",
       "    </tr>\n",
       "    <tr>\n",
       "      <th>1</th>\n",
       "      <td>0</td>\n",
       "      <td>0.490993</td>\n",
       "      <td>0.414496</td>\n",
       "    </tr>\n",
       "    <tr>\n",
       "      <th>2</th>\n",
       "      <td>1</td>\n",
       "      <td>0.623815</td>\n",
       "      <td>0.569883</td>\n",
       "    </tr>\n",
       "    <tr>\n",
       "      <th>3</th>\n",
       "      <td>1</td>\n",
       "      <td>0.506616</td>\n",
       "      <td>0.443674</td>\n",
       "    </tr>\n",
       "    <tr>\n",
       "      <th>4</th>\n",
       "      <td>0</td>\n",
       "      <td>0.418302</td>\n",
       "      <td>0.369532</td>\n",
       "    </tr>\n",
       "    <tr>\n",
       "      <th>5</th>\n",
       "      <td>0</td>\n",
       "      <td>0.540665</td>\n",
       "      <td>0.582447</td>\n",
       "    </tr>\n",
       "    <tr>\n",
       "      <th>6</th>\n",
       "      <td>0</td>\n",
       "      <td>0.333361</td>\n",
       "      <td>0.376542</td>\n",
       "    </tr>\n",
       "    <tr>\n",
       "      <th>7</th>\n",
       "      <td>0</td>\n",
       "      <td>0.309166</td>\n",
       "      <td>0.287872</td>\n",
       "    </tr>\n",
       "    <tr>\n",
       "      <th>8</th>\n",
       "      <td>0</td>\n",
       "      <td>0.532531</td>\n",
       "      <td>0.524141</td>\n",
       "    </tr>\n",
       "    <tr>\n",
       "      <th>9</th>\n",
       "      <td>0</td>\n",
       "      <td>0.423434</td>\n",
       "      <td>0.435693</td>\n",
       "    </tr>\n",
       "  </tbody>\n",
       "</table>\n",
       "</div>"
      ],
      "text/plain": [
       "   actual_label  model_RF  model_LR\n",
       "0             1  0.639816  0.531904\n",
       "1             0  0.490993  0.414496\n",
       "2             1  0.623815  0.569883\n",
       "3             1  0.506616  0.443674\n",
       "4             0  0.418302  0.369532\n",
       "5             0  0.540665  0.582447\n",
       "6             0  0.333361  0.376542\n",
       "7             0  0.309166  0.287872\n",
       "8             0  0.532531  0.524141\n",
       "9             0  0.423434  0.435693"
      ]
     },
     "execution_count": 41,
     "metadata": {},
     "output_type": "execute_result"
    }
   ],
   "source": [
    "df = pd.read_csv('data_metrics.csv')\n",
    "df.head(10)"
   ]
  },
  {
   "cell_type": "code",
   "execution_count": 42,
   "id": "b53be40e-3b42-42a4-812b-7bcde0a73199",
   "metadata": {},
   "outputs": [
    {
     "data": {
      "text/html": [
       "<div>\n",
       "<style scoped>\n",
       "    .dataframe tbody tr th:only-of-type {\n",
       "        vertical-align: middle;\n",
       "    }\n",
       "\n",
       "    .dataframe tbody tr th {\n",
       "        vertical-align: top;\n",
       "    }\n",
       "\n",
       "    .dataframe thead th {\n",
       "        text-align: right;\n",
       "    }\n",
       "</style>\n",
       "<table border=\"1\" class=\"dataframe\">\n",
       "  <thead>\n",
       "    <tr style=\"text-align: right;\">\n",
       "      <th></th>\n",
       "      <th>actual_label</th>\n",
       "      <th>model_RF</th>\n",
       "      <th>model_LR</th>\n",
       "      <th>predicted_RF</th>\n",
       "      <th>predicted_LR</th>\n",
       "    </tr>\n",
       "  </thead>\n",
       "  <tbody>\n",
       "    <tr>\n",
       "      <th>0</th>\n",
       "      <td>1</td>\n",
       "      <td>0.639816</td>\n",
       "      <td>0.531904</td>\n",
       "      <td>1</td>\n",
       "      <td>1</td>\n",
       "    </tr>\n",
       "    <tr>\n",
       "      <th>1</th>\n",
       "      <td>0</td>\n",
       "      <td>0.490993</td>\n",
       "      <td>0.414496</td>\n",
       "      <td>0</td>\n",
       "      <td>0</td>\n",
       "    </tr>\n",
       "    <tr>\n",
       "      <th>2</th>\n",
       "      <td>1</td>\n",
       "      <td>0.623815</td>\n",
       "      <td>0.569883</td>\n",
       "      <td>1</td>\n",
       "      <td>1</td>\n",
       "    </tr>\n",
       "    <tr>\n",
       "      <th>3</th>\n",
       "      <td>1</td>\n",
       "      <td>0.506616</td>\n",
       "      <td>0.443674</td>\n",
       "      <td>1</td>\n",
       "      <td>0</td>\n",
       "    </tr>\n",
       "    <tr>\n",
       "      <th>4</th>\n",
       "      <td>0</td>\n",
       "      <td>0.418302</td>\n",
       "      <td>0.369532</td>\n",
       "      <td>0</td>\n",
       "      <td>0</td>\n",
       "    </tr>\n",
       "    <tr>\n",
       "      <th>5</th>\n",
       "      <td>0</td>\n",
       "      <td>0.540665</td>\n",
       "      <td>0.582447</td>\n",
       "      <td>1</td>\n",
       "      <td>1</td>\n",
       "    </tr>\n",
       "    <tr>\n",
       "      <th>6</th>\n",
       "      <td>0</td>\n",
       "      <td>0.333361</td>\n",
       "      <td>0.376542</td>\n",
       "      <td>0</td>\n",
       "      <td>0</td>\n",
       "    </tr>\n",
       "    <tr>\n",
       "      <th>7</th>\n",
       "      <td>0</td>\n",
       "      <td>0.309166</td>\n",
       "      <td>0.287872</td>\n",
       "      <td>0</td>\n",
       "      <td>0</td>\n",
       "    </tr>\n",
       "    <tr>\n",
       "      <th>8</th>\n",
       "      <td>0</td>\n",
       "      <td>0.532531</td>\n",
       "      <td>0.524141</td>\n",
       "      <td>1</td>\n",
       "      <td>1</td>\n",
       "    </tr>\n",
       "    <tr>\n",
       "      <th>9</th>\n",
       "      <td>0</td>\n",
       "      <td>0.423434</td>\n",
       "      <td>0.435693</td>\n",
       "      <td>0</td>\n",
       "      <td>0</td>\n",
       "    </tr>\n",
       "  </tbody>\n",
       "</table>\n",
       "</div>"
      ],
      "text/plain": [
       "   actual_label  model_RF  model_LR  predicted_RF  predicted_LR\n",
       "0             1  0.639816  0.531904             1             1\n",
       "1             0  0.490993  0.414496             0             0\n",
       "2             1  0.623815  0.569883             1             1\n",
       "3             1  0.506616  0.443674             1             0\n",
       "4             0  0.418302  0.369532             0             0\n",
       "5             0  0.540665  0.582447             1             1\n",
       "6             0  0.333361  0.376542             0             0\n",
       "7             0  0.309166  0.287872             0             0\n",
       "8             0  0.532531  0.524141             1             1\n",
       "9             0  0.423434  0.435693             0             0"
      ]
     },
     "execution_count": 42,
     "metadata": {},
     "output_type": "execute_result"
    }
   ],
   "source": [
    "threshold = 0.5\n",
    "df['predicted_RF'] = (df.model_RF >= 0.5).astype('int')\n",
    "df['predicted_LR'] = (df.model_LR >= 0.5).astype('int')\n",
    "\n",
    "df.head(10)"
   ]
  },
  {
   "cell_type": "markdown",
   "id": "f1aaadba-d584-4a5c-951b-f82b1f967e6e",
   "metadata": {},
   "source": [
    "#### Confusion Matrix"
   ]
  },
  {
   "cell_type": "code",
   "execution_count": 100,
   "id": "654f20c1-0419-4ecc-9101-1b2efb968660",
   "metadata": {},
   "outputs": [
    {
     "data": {
      "text/plain": [
       "array([[5519, 2360],\n",
       "       [2832, 5047]])"
      ]
     },
     "execution_count": 100,
     "metadata": {},
     "output_type": "execute_result"
    }
   ],
   "source": [
    "confusion_matrix(df.actual_label.values, df.predicted_RF.values)\n",
    "# TN FP\n",
    "# FN TP"
   ]
  },
  {
   "cell_type": "code",
   "execution_count": 97,
   "id": "a7c7c602-7caf-4e96-98d6-cb844d46cd1b",
   "metadata": {},
   "outputs": [],
   "source": [
    "def lysenko_confusion_matrix(y_true, y_pred):\n",
    "    TN = find_TN(y_true, y_pred)\n",
    "    FP = find_FP(y_true, y_pred)\n",
    "    FN = find_FN(y_true, y_pred)\n",
    "    TP = find_TP(y_true, y_pred)\n",
    "    return np.array([[TN, FP],\n",
    "                     [FN, TP]])\n",
    "\n",
    "def find_TP(y_true, y_pred):\n",
    "    return sum((y_true == 1) & (y_pred == 1))\n",
    "\n",
    "def find_FN(y_true, y_pred):\n",
    "    return sum((y_true == 1) & (y_pred == 0))\n",
    "\n",
    "def find_FP(y_true, y_pred):\n",
    "    return sum((y_true == 0) & (y_pred == 1))\n",
    "\n",
    "def find_TN(y_true, y_pred):\n",
    "    return sum((y_true == 0) & (y_pred == 0))"
   ]
  },
  {
   "cell_type": "code",
   "execution_count": 98,
   "id": "e9948e2a-ba44-4fc3-8dba-d2ea5c853ae1",
   "metadata": {},
   "outputs": [
    {
     "name": "stdout",
     "output_type": "stream",
     "text": [
      "TN 5519\n",
      "FP 2360\n",
      "FN 2832\n",
      "TP 5047\n"
     ]
    }
   ],
   "source": [
    "print('TN',find_TN(df.actual_label.values, df.predicted_RF.values))\n",
    "\n",
    "print('FP',find_FP(df.actual_label.values, df.predicted_RF.values))\n",
    "\n",
    "print('FN',find_FN(df.actual_label.values, df.predicted_RF.values))\n",
    "\n",
    "print('TP',find_TP(df.actual_label.values, df.predicted_RF.values))"
   ]
  },
  {
   "cell_type": "code",
   "execution_count": 99,
   "id": "8a42ad43-e475-4e39-ba9f-da4ecaa2c22f",
   "metadata": {},
   "outputs": [
    {
     "data": {
      "text/plain": [
       "array([[5519, 2360],\n",
       "       [2832, 5047]])"
      ]
     },
     "execution_count": 99,
     "metadata": {},
     "output_type": "execute_result"
    }
   ],
   "source": [
    "lysenko_confusion_matrix(df.actual_label.values, df.predicted_RF.values)"
   ]
  },
  {
   "cell_type": "code",
   "execution_count": 65,
   "id": "825d22c6-0fdf-4e91-bd50-f72f6fd3b4b9",
   "metadata": {},
   "outputs": [],
   "source": [
    "assert np.array_equal(lysenko_confusion_matrix(df.actual_label.values, df.predicted_RF.values),\n",
    "               confusion_matrix(df.actual_label.values, df.predicted_RF.values),\n",
    "               'Not correct for RF')\n",
    "\n",
    "assert np.array_equal(lysenko_confusion_matrix(df.actual_label.values, df.predicted_LR.values),\n",
    "               confusion_matrix(df.actual_label.values, df.predicted_LR.values),\n",
    "               'Not correct for LR')"
   ]
  },
  {
   "cell_type": "code",
   "execution_count": 66,
   "id": "c53467c4-0b80-4f8d-a309-9ea583d1473c",
   "metadata": {},
   "outputs": [
    {
     "name": "stdout",
     "output_type": "stream",
     "text": [
      "My confusion matrix:\n",
      "[[5519 2360]\n",
      " [2832 5047]]\n",
      "Sklearn confusion matrix:\n",
      "[[5519 2360]\n",
      " [2832 5047]]\n"
     ]
    }
   ],
   "source": [
    "print(\"My confusion matrix:\")\n",
    "print(lysenko_confusion_matrix(df.actual_label.values, df.predicted_RF.values))\n",
    "\n",
    "print(\"Sklearn confusion matrix:\")\n",
    "print(confusion_matrix(df.actual_label.values, df.predicted_RF.values))"
   ]
  },
  {
   "cell_type": "markdown",
   "id": "6eb82dd2-7729-43a9-b77c-02606ff831fd",
   "metadata": {},
   "source": [
    "#### Accuracy Score"
   ]
  },
  {
   "cell_type": "code",
   "execution_count": 118,
   "id": "404c9204-68cb-44ab-a2c1-2393cebb8a1d",
   "metadata": {},
   "outputs": [
    {
     "data": {
      "text/plain": [
       "0.6705165630156111"
      ]
     },
     "execution_count": 118,
     "metadata": {},
     "output_type": "execute_result"
    }
   ],
   "source": [
    "accuracy_score(df.actual_label.values, df.predicted_RF.values)"
   ]
  },
  {
   "cell_type": "code",
   "execution_count": 119,
   "id": "3d7fce49-a946-4a94-ab95-334397c1bbf2",
   "metadata": {},
   "outputs": [],
   "source": [
    "def lysenko_accuracy_score(y_true, y_pred):\n",
    "    tnfp, fntp = lysenko_confusion_matrix(y_true, y_pred)\n",
    "    # TN FP\n",
    "    # FN TP\n",
    "    TN,FP = tnfp\n",
    "    FN, TP = fntp\n",
    "    return (TP + TN)/(TP + TN + FP + FN)"
   ]
  },
  {
   "cell_type": "code",
   "execution_count": 120,
   "id": "01c90957-9c53-4a7a-aabc-2aab29e6bf1c",
   "metadata": {},
   "outputs": [
    {
     "data": {
      "text/plain": [
       "0.6705165630156111"
      ]
     },
     "execution_count": 120,
     "metadata": {},
     "output_type": "execute_result"
    }
   ],
   "source": [
    "lysenko_accuracy_score(df.actual_label.values, df.predicted_RF.values)"
   ]
  },
  {
   "cell_type": "code",
   "execution_count": 121,
   "id": "3669068a-0388-47b1-a747-a433729a936a",
   "metadata": {},
   "outputs": [
    {
     "name": "stdout",
     "output_type": "stream",
     "text": [
      "Accuracy RF: 0.671\n",
      "Accuracy LR: 0.616\n"
     ]
    }
   ],
   "source": [
    "assert lysenko_accuracy_score(df.actual_label.values, df.predicted_RF.values) ==\\\n",
    "        accuracy_score(df.actual_label.values, df.predicted_RF.values), 'My accuracy failed on RF'\n",
    "print(f'Accuracy RF: {round(lysenko_accuracy_score(df.actual_label.values, df.predicted_RF.values), 3)}')\n",
    "\n",
    "assert lysenko_accuracy_score(df.actual_label.values, df.predicted_LR.values) ==\\\n",
    "        accuracy_score(df.actual_label.values, df.predicted_LR.values), 'My accuracy failed on LR'\n",
    "print(f'Accuracy LR: {round(lysenko_accuracy_score(df.actual_label.values, df.predicted_LR.values), 3)}')\n"
   ]
  },
  {
   "cell_type": "markdown",
   "id": "ad2a5f3f-b844-4910-807c-ea9134f6073f",
   "metadata": {},
   "source": [
    "#### Recall Score"
   ]
  },
  {
   "cell_type": "code",
   "execution_count": 122,
   "id": "94e66e21-952b-4338-bdc6-02855d6cc026",
   "metadata": {},
   "outputs": [
    {
     "data": {
      "text/plain": [
       "0.6405635232897576"
      ]
     },
     "execution_count": 122,
     "metadata": {},
     "output_type": "execute_result"
    }
   ],
   "source": [
    "recall_score(df.actual_label.values, df.predicted_RF.values)"
   ]
  },
  {
   "cell_type": "code",
   "execution_count": 123,
   "id": "031110cc-5f52-4c8f-989a-8f001d925b6c",
   "metadata": {},
   "outputs": [],
   "source": [
    "def lysenko_recall_score(y_true, y_pred):\n",
    "    tnfp, fntp = lysenko_confusion_matrix(y_true, y_pred)\n",
    "    # TN FP\n",
    "    # FN TP\n",
    "    FN, TP = fntp\n",
    "    return (TP)/(TP+FN)"
   ]
  },
  {
   "cell_type": "code",
   "execution_count": 124,
   "id": "3d924de1-3839-4806-82e1-3902e128ced9",
   "metadata": {},
   "outputs": [
    {
     "data": {
      "text/plain": [
       "0.6405635232897576"
      ]
     },
     "execution_count": 124,
     "metadata": {},
     "output_type": "execute_result"
    }
   ],
   "source": [
    "lysenko_recall_score(df.actual_label.values, df.predicted_RF.values)"
   ]
  },
  {
   "cell_type": "code",
   "execution_count": 129,
   "id": "68d07f8c-f333-48c9-ac40-1988505e3acc",
   "metadata": {},
   "outputs": [
    {
     "name": "stdout",
     "output_type": "stream",
     "text": [
      "Recall RF: 0.641\n",
      "Recall LR: 0.543\n"
     ]
    }
   ],
   "source": [
    "assert lysenko_recall_score(df.actual_label.values, df.predicted_RF.values) ==\\\n",
    "        recall_score(df.actual_label.values, df.predicted_RF.values), 'My recall failed on RF'\n",
    "print(f'Recall RF: {round(lysenko_recall_score(df.actual_label.values, df.predicted_RF.values), 3)}')\n",
    "\n",
    "assert lysenko_recall_score(df.actual_label.values, df.predicted_LR.values) ==\\\n",
    "        recall_score(df.actual_label.values, df.predicted_LR.values), 'My recall failed on LR'\n",
    "print(f'Recall LR: {round(lysenko_recall_score(df.actual_label.values, df.predicted_LR.values), 3)}')"
   ]
  },
  {
   "cell_type": "markdown",
   "id": "3f0c3119-d299-4ac1-a438-955f851f8987",
   "metadata": {},
   "source": [
    "#### Precision Score"
   ]
  },
  {
   "cell_type": "code",
   "execution_count": 126,
   "id": "aa887c16-cc39-41da-996c-005cf22f4353",
   "metadata": {},
   "outputs": [
    {
     "data": {
      "text/plain": [
       "0.6355265112134264"
      ]
     },
     "execution_count": 126,
     "metadata": {},
     "output_type": "execute_result"
    }
   ],
   "source": [
    "precision_score(df.actual_label.values, df.predicted_LR.values)"
   ]
  },
  {
   "cell_type": "code",
   "execution_count": 127,
   "id": "e5b990cf-a408-444e-988f-7b01fbb9000b",
   "metadata": {},
   "outputs": [],
   "source": [
    "def lysenko_precision_score(y_true, y_pred):\n",
    "    tnfp, fntp = lysenko_confusion_matrix(y_true, y_pred)\n",
    "    # TN FP\n",
    "    # FN TP\n",
    "    FP, TP = tnfp[1], fntp[1]\n",
    "    return (TP)/(TP+FP)"
   ]
  },
  {
   "cell_type": "code",
   "execution_count": 128,
   "id": "0d4e3224-34e4-41e5-a7c3-51c98a45c03e",
   "metadata": {},
   "outputs": [
    {
     "data": {
      "text/plain": [
       "0.6355265112134264"
      ]
     },
     "execution_count": 128,
     "metadata": {},
     "output_type": "execute_result"
    }
   ],
   "source": [
    "lysenko_precision_score(df.actual_label.values, df.predicted_LR.values)"
   ]
  },
  {
   "cell_type": "code",
   "execution_count": 130,
   "id": "7006f8e6-fbf9-4418-9704-581a429f8889",
   "metadata": {},
   "outputs": [
    {
     "name": "stdout",
     "output_type": "stream",
     "text": [
      "Precision RF: 0.681\n",
      "Precision LR: 0.543\n"
     ]
    }
   ],
   "source": [
    "assert lysenko_precision_score(df.actual_label.values, df.predicted_RF.values) ==\\\n",
    "        precision_score(df.actual_label.values, df.predicted_RF.values), 'My precision failed on RF'\n",
    "print(f'Precision RF: {round(lysenko_precision_score(df.actual_label.values, df.predicted_RF.values), 3)}')\n",
    "\n",
    "assert lysenko_precision_score(df.actual_label.values, df.predicted_LR.values) ==\\\n",
    "        precision_score(df.actual_label.values, df.predicted_LR.values), 'My precision failed on LR'\n",
    "print(f'Precision LR: {round(lysenko_recall_score(df.actual_label.values, df.predicted_LR.values), 3)}')"
   ]
  },
  {
   "cell_type": "markdown",
   "id": "b708fc72-29d2-47d6-aefe-a6cf8e3318f7",
   "metadata": {},
   "source": [
    "#### F1 Score"
   ]
  },
  {
   "cell_type": "code",
   "execution_count": 143,
   "id": "938face4-07ad-4a79-aa6a-9f85e6f99704",
   "metadata": {},
   "outputs": [
    {
     "data": {
      "text/plain": [
       "0.5856830002737476"
      ]
     },
     "execution_count": 143,
     "metadata": {},
     "output_type": "execute_result"
    }
   ],
   "source": [
    "f1_score(df.actual_label.values, df.predicted_LR.values)"
   ]
  },
  {
   "cell_type": "code",
   "execution_count": 135,
   "id": "a7f4afb8-c616-4ef6-aadc-7ed724f79473",
   "metadata": {},
   "outputs": [],
   "source": [
    "def lysenko_f1_score(y_true, y_pred):\n",
    "    R = lysenko_recall_score(y_true, y_pred)\n",
    "    P = lysenko_precision_score(y_true, y_pred)\n",
    "    return (2 * (P*R))/(P+R)"
   ]
  },
  {
   "cell_type": "code",
   "execution_count": 142,
   "id": "1982a032-fbbf-4603-be3d-88a8b74d806a",
   "metadata": {},
   "outputs": [
    {
     "data": {
      "text/plain": [
       "0.5856830002737475"
      ]
     },
     "execution_count": 142,
     "metadata": {},
     "output_type": "execute_result"
    }
   ],
   "source": [
    "lysenko_f1_score(df.actual_label.values, df.predicted_LR.values)"
   ]
  },
  {
   "cell_type": "code",
   "execution_count": 144,
   "id": "094fef18-881a-4bec-9176-b44886555589",
   "metadata": {},
   "outputs": [
    {
     "name": "stdout",
     "output_type": "stream",
     "text": [
      "F1 score for RF: 0.66\n"
     ]
    },
    {
     "ename": "AssertionError",
     "evalue": "My f1 failed on LR",
     "output_type": "error",
     "traceback": [
      "\u001b[0;31m---------------------------------------------------------------------------\u001b[0m",
      "\u001b[0;31mAssertionError\u001b[0m                            Traceback (most recent call last)",
      "Cell \u001b[0;32mIn[144], line 5\u001b[0m\n\u001b[1;32m      1\u001b[0m \u001b[38;5;28;01massert\u001b[39;00m lysenko_f1_score(df\u001b[38;5;241m.\u001b[39mactual_label\u001b[38;5;241m.\u001b[39mvalues, df\u001b[38;5;241m.\u001b[39mpredicted_RF\u001b[38;5;241m.\u001b[39mvalues) \u001b[38;5;241m==\u001b[39m\\\n\u001b[1;32m      2\u001b[0m         f1_score(df\u001b[38;5;241m.\u001b[39mactual_label\u001b[38;5;241m.\u001b[39mvalues, df\u001b[38;5;241m.\u001b[39mpredicted_RF\u001b[38;5;241m.\u001b[39mvalues), \u001b[38;5;124m'\u001b[39m\u001b[38;5;124mMy f1 failed on RF\u001b[39m\u001b[38;5;124m'\u001b[39m\n\u001b[1;32m      3\u001b[0m \u001b[38;5;28mprint\u001b[39m(\u001b[38;5;124mf\u001b[39m\u001b[38;5;124m'\u001b[39m\u001b[38;5;124mF1 score for RF: \u001b[39m\u001b[38;5;132;01m{\u001b[39;00m\u001b[38;5;28mround\u001b[39m(lysenko_f1_score(df\u001b[38;5;241m.\u001b[39mactual_label\u001b[38;5;241m.\u001b[39mvalues,\u001b[38;5;250m \u001b[39mdf\u001b[38;5;241m.\u001b[39mpredicted_RF\u001b[38;5;241m.\u001b[39mvalues),\u001b[38;5;250m \u001b[39m\u001b[38;5;241m3\u001b[39m)\u001b[38;5;132;01m}\u001b[39;00m\u001b[38;5;124m'\u001b[39m)\n\u001b[0;32m----> 5\u001b[0m \u001b[38;5;28;01massert\u001b[39;00m lysenko_f1_score(df\u001b[38;5;241m.\u001b[39mactual_label\u001b[38;5;241m.\u001b[39mvalues, df\u001b[38;5;241m.\u001b[39mpredicted_LR\u001b[38;5;241m.\u001b[39mvalues) \u001b[38;5;241m==\u001b[39m\\\n\u001b[1;32m      6\u001b[0m         f1_score(df\u001b[38;5;241m.\u001b[39mactual_label\u001b[38;5;241m.\u001b[39mvalues, df\u001b[38;5;241m.\u001b[39mpredicted_LR\u001b[38;5;241m.\u001b[39mvalues), \u001b[38;5;124m'\u001b[39m\u001b[38;5;124mMy f1 failed on LR\u001b[39m\u001b[38;5;124m'\u001b[39m\n\u001b[1;32m      7\u001b[0m \u001b[38;5;28mprint\u001b[39m(\u001b[38;5;124mf\u001b[39m\u001b[38;5;124m'\u001b[39m\u001b[38;5;124mF1 score for LR: \u001b[39m\u001b[38;5;132;01m{\u001b[39;00m\u001b[38;5;28mround\u001b[39m(lysenko_f1_score(df\u001b[38;5;241m.\u001b[39mactual_label\u001b[38;5;241m.\u001b[39mvalues,\u001b[38;5;250m \u001b[39mdf\u001b[38;5;241m.\u001b[39mpredicted_LR\u001b[38;5;241m.\u001b[39mvalues),\u001b[38;5;250m \u001b[39m\u001b[38;5;241m3\u001b[39m)\u001b[38;5;132;01m}\u001b[39;00m\u001b[38;5;124m'\u001b[39m)\n",
      "\u001b[0;31mAssertionError\u001b[0m: My f1 failed on LR"
     ]
    }
   ],
   "source": [
    "assert lysenko_f1_score(df.actual_label.values, df.predicted_RF.values) ==\\\n",
    "        f1_score(df.actual_label.values, df.predicted_RF.values), 'My f1 failed on RF'\n",
    "print(f'F1 score for RF: {round(lysenko_f1_score(df.actual_label.values, df.predicted_RF.values), 3)}')\n",
    "\n",
    "assert lysenko_f1_score(df.actual_label.values, df.predicted_LR.values) ==\\\n",
    "        f1_score(df.actual_label.values, df.predicted_LR.values), 'My f1 failed on LR'\n",
    "print(f'F1 score for LR: {round(lysenko_f1_score(df.actual_label.values, df.predicted_LR.values), 3)}')"
   ]
  },
  {
   "cell_type": "code",
   "execution_count": null,
   "id": "a65a129e-32f7-4395-8855-9a9a64462f91",
   "metadata": {},
   "outputs": [],
   "source": []
  }
 ],
 "metadata": {
  "kernelspec": {
   "display_name": "Python 3 (ipykernel)",
   "language": "python",
   "name": "python3"
  },
  "language_info": {
   "codemirror_mode": {
    "name": "ipython",
    "version": 3
   },
   "file_extension": ".py",
   "mimetype": "text/x-python",
   "name": "python",
   "nbconvert_exporter": "python",
   "pygments_lexer": "ipython3",
   "version": "3.12.7"
  }
 },
 "nbformat": 4,
 "nbformat_minor": 5
}
